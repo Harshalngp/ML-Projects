{
 "cells": [
  {
   "cell_type": "code",
   "execution_count": 1,
   "metadata": {},
   "outputs": [],
   "source": [
    "#importing the libraries\n",
    "import numpy as np\n",
    "import matplotlib.pyplot as plt\n",
    "import pandas as pd"
   ]
  },
  {
   "cell_type": "code",
   "execution_count": 2,
   "metadata": {},
   "outputs": [
    {
     "name": "stdout",
     "output_type": "stream",
     "text": [
      "     Serial No.  GRE Score  TOEFL Score  University Rating  SOP  LOR   CGPA  \\\n",
      "0             1        337          118                  4  4.5   4.5  9.65   \n",
      "1             2        324          107                  4  4.0   4.5  8.87   \n",
      "2             3        316          104                  3  3.0   3.5  8.00   \n",
      "3             4        322          110                  3  3.5   2.5  8.67   \n",
      "4             5        314          103                  2  2.0   3.0  8.21   \n",
      "..          ...        ...          ...                ...  ...   ...   ...   \n",
      "495         496        332          108                  5  4.5   4.0  9.02   \n",
      "496         497        337          117                  5  5.0   5.0  9.87   \n",
      "497         498        330          120                  5  4.5   5.0  9.56   \n",
      "498         499        312          103                  4  4.0   5.0  8.43   \n",
      "499         500        327          113                  4  4.5   4.5  9.04   \n",
      "\n",
      "     Research  Chance of Admit   \n",
      "0           1              0.92  \n",
      "1           1              0.76  \n",
      "2           1              0.72  \n",
      "3           1              0.80  \n",
      "4           0              0.65  \n",
      "..        ...               ...  \n",
      "495         1              0.87  \n",
      "496         1              0.96  \n",
      "497         1              0.93  \n",
      "498         0              0.73  \n",
      "499         0              0.84  \n",
      "\n",
      "[500 rows x 9 columns]\n"
     ]
    }
   ],
   "source": [
    "#extracting the dataset\n",
    "df=pd.read_csv('Admission_Predict_Ver1.1.csv')\n",
    "print(df)"
   ]
  },
  {
   "cell_type": "code",
   "execution_count": 3,
   "metadata": {},
   "outputs": [
    {
     "name": "stdout",
     "output_type": "stream",
     "text": [
      "[[337.   118.     4.   ...   4.5    9.65   1.  ]\n",
      " [324.   107.     4.   ...   4.5    8.87   1.  ]\n",
      " [316.   104.     3.   ...   3.5    8.     1.  ]\n",
      " ...\n",
      " [330.   120.     5.   ...   5.     9.56   1.  ]\n",
      " [312.   103.     4.   ...   5.     8.43   0.  ]\n",
      " [327.   113.     4.   ...   4.5    9.04   0.  ]]\n",
      "[0.92 0.76 0.72 0.8  0.65 0.9  0.75 0.68 0.5  0.45 0.52 0.84 0.78 0.62\n",
      " 0.61 0.54 0.66 0.65 0.63 0.62 0.64 0.7  0.94 0.95 0.97 0.94 0.76 0.44\n",
      " 0.46 0.54 0.65 0.74 0.91 0.9  0.94 0.88 0.64 0.58 0.52 0.48 0.46 0.49\n",
      " 0.53 0.87 0.91 0.88 0.86 0.89 0.82 0.78 0.76 0.56 0.78 0.72 0.7  0.64\n",
      " 0.64 0.46 0.36 0.42 0.48 0.47 0.54 0.56 0.52 0.55 0.61 0.57 0.68 0.78\n",
      " 0.94 0.96 0.93 0.84 0.74 0.72 0.74 0.64 0.44 0.46 0.5  0.96 0.92 0.92\n",
      " 0.94 0.76 0.72 0.66 0.64 0.74 0.64 0.38 0.34 0.44 0.36 0.42 0.48 0.86\n",
      " 0.9  0.79 0.71 0.64 0.62 0.57 0.74 0.69 0.87 0.91 0.93 0.68 0.61 0.69\n",
      " 0.62 0.72 0.59 0.66 0.56 0.45 0.47 0.71 0.94 0.94 0.57 0.61 0.57 0.64\n",
      " 0.85 0.78 0.84 0.92 0.96 0.77 0.71 0.79 0.89 0.82 0.76 0.71 0.8  0.78\n",
      " 0.84 0.9  0.92 0.97 0.8  0.81 0.75 0.83 0.96 0.79 0.93 0.94 0.86 0.79\n",
      " 0.8  0.77 0.7  0.65 0.61 0.52 0.57 0.53 0.67 0.68 0.81 0.78 0.65 0.64\n",
      " 0.64 0.65 0.68 0.89 0.86 0.89 0.87 0.85 0.9  0.82 0.72 0.73 0.71 0.71\n",
      " 0.68 0.75 0.72 0.89 0.84 0.93 0.93 0.88 0.9  0.87 0.86 0.94 0.77 0.78\n",
      " 0.73 0.73 0.7  0.72 0.73 0.72 0.97 0.97 0.69 0.57 0.63 0.66 0.64 0.68\n",
      " 0.79 0.82 0.95 0.96 0.94 0.93 0.91 0.85 0.84 0.74 0.76 0.75 0.76 0.71\n",
      " 0.67 0.61 0.63 0.64 0.71 0.82 0.73 0.74 0.69 0.64 0.91 0.88 0.85 0.86\n",
      " 0.7  0.59 0.6  0.65 0.7  0.76 0.63 0.81 0.72 0.71 0.8  0.77 0.74 0.7\n",
      " 0.71 0.93 0.85 0.79 0.76 0.78 0.77 0.9  0.87 0.71 0.7  0.7  0.75 0.71\n",
      " 0.72 0.73 0.83 0.77 0.72 0.54 0.49 0.52 0.58 0.78 0.89 0.7  0.66 0.67\n",
      " 0.68 0.8  0.81 0.8  0.94 0.93 0.92 0.89 0.82 0.79 0.58 0.56 0.56 0.64\n",
      " 0.61 0.68 0.76 0.86 0.9  0.71 0.62 0.66 0.65 0.73 0.62 0.74 0.79 0.8\n",
      " 0.69 0.7  0.76 0.84 0.78 0.67 0.66 0.65 0.54 0.58 0.79 0.8  0.75 0.73\n",
      " 0.72 0.62 0.67 0.81 0.63 0.69 0.8  0.43 0.8  0.73 0.75 0.71 0.73 0.83\n",
      " 0.72 0.94 0.81 0.81 0.75 0.79 0.58 0.59 0.47 0.49 0.47 0.42 0.57 0.62\n",
      " 0.74 0.73 0.64 0.63 0.59 0.73 0.79 0.68 0.7  0.81 0.85 0.93 0.91 0.69\n",
      " 0.77 0.86 0.74 0.57 0.51 0.67 0.72 0.89 0.95 0.79 0.39 0.38 0.34 0.47\n",
      " 0.56 0.71 0.78 0.73 0.82 0.62 0.96 0.96 0.46 0.53 0.49 0.76 0.64 0.71\n",
      " 0.84 0.77 0.89 0.82 0.84 0.91 0.67 0.95 0.63 0.66 0.78 0.91 0.62 0.52\n",
      " 0.61 0.58 0.57 0.61 0.54 0.56 0.59 0.49 0.72 0.76 0.65 0.52 0.6  0.58\n",
      " 0.42 0.77 0.73 0.94 0.91 0.92 0.71 0.71 0.69 0.95 0.74 0.73 0.86 0.71\n",
      " 0.64 0.55 0.58 0.61 0.67 0.66 0.53 0.79 0.92 0.87 0.92 0.91 0.93 0.84\n",
      " 0.8  0.79 0.82 0.89 0.93 0.73 0.71 0.59 0.51 0.37 0.69 0.89 0.77 0.68\n",
      " 0.62 0.57 0.45 0.54 0.71 0.78 0.81 0.86 0.87 0.64 0.9  0.67 0.67 0.59\n",
      " 0.62 0.65 0.71 0.79 0.8  0.78 0.83 0.71 0.73 0.7  0.68 0.79 0.76 0.65\n",
      " 0.67 0.54 0.53 0.62 0.68 0.87 0.96 0.93 0.73 0.84]\n"
     ]
    }
   ],
   "source": [
    "#splitting data in x and y\n",
    "x=df.iloc[:,1:-1].values\n",
    "y=df.iloc[:,-1].values\n",
    "print(x)\n",
    "print(y)"
   ]
  },
  {
   "cell_type": "code",
   "execution_count": 4,
   "metadata": {},
   "outputs": [
    {
     "data": {
      "text/plain": [
       "array([[ 1.81923762,  1.77886545,  0.77558214, ...,  1.09894429,\n",
       "         1.77680627,  0.88640526],\n",
       "       [ 0.66714832, -0.03160087,  0.77558214, ...,  1.09894429,\n",
       "         0.48585943,  0.88640526],\n",
       "       [-0.0418297 , -0.52536441, -0.09979274, ...,  0.01730621,\n",
       "        -0.95404281,  0.88640526],\n",
       "       ...,\n",
       "       [ 1.19888185,  2.10804114,  1.65095702, ...,  1.63976333,\n",
       "         1.62785086,  0.88640526],\n",
       "       [-0.39631872, -0.68995225,  0.77558214, ...,  1.63976333,\n",
       "        -0.24236699, -1.12815215],\n",
       "       [ 0.93301508,  0.95592621,  0.77558214, ...,  1.09894429,\n",
       "         0.76721964, -1.12815215]])"
      ]
     },
     "execution_count": 4,
     "metadata": {},
     "output_type": "execute_result"
    }
   ],
   "source": [
    "#perform Scaling\n",
    "from sklearn.preprocessing import StandardScaler\n",
    "sc=StandardScaler()\n",
    "x=sc.fit_transform(x)\n",
    "x"
   ]
  },
  {
   "cell_type": "code",
   "execution_count": 5,
   "metadata": {},
   "outputs": [
    {
     "data": {
      "text/plain": [
       "Serial No.           0\n",
       "GRE Score            0\n",
       "TOEFL Score          0\n",
       "University Rating    0\n",
       "SOP                  0\n",
       "LOR                  0\n",
       "CGPA                 0\n",
       "Research             0\n",
       "Chance of Admit      0\n",
       "dtype: int64"
      ]
     },
     "execution_count": 5,
     "metadata": {},
     "output_type": "execute_result"
    }
   ],
   "source": [
    "#checking any null value\n",
    "df.isna().sum()"
   ]
  },
  {
   "cell_type": "code",
   "execution_count": 6,
   "metadata": {},
   "outputs": [
    {
     "data": {
      "text/plain": [
       "array([[ 1.        ,  1.81923762,  1.77886545, ...,  1.09894429,\n",
       "         1.77680627,  0.88640526],\n",
       "       [ 1.        ,  0.66714832, -0.03160087, ...,  1.09894429,\n",
       "         0.48585943,  0.88640526],\n",
       "       [ 1.        , -0.0418297 , -0.52536441, ...,  0.01730621,\n",
       "        -0.95404281,  0.88640526],\n",
       "       ...,\n",
       "       [ 1.        ,  1.19888185,  2.10804114, ...,  1.63976333,\n",
       "         1.62785086,  0.88640526],\n",
       "       [ 1.        , -0.39631872, -0.68995225, ...,  1.63976333,\n",
       "        -0.24236699, -1.12815215],\n",
       "       [ 1.        ,  0.93301508,  0.95592621, ...,  1.09894429,\n",
       "         0.76721964, -1.12815215]])"
      ]
     },
     "execution_count": 6,
     "metadata": {},
     "output_type": "execute_result"
    }
   ],
   "source": [
    "#add constant column\n",
    "x_temp=np.append(arr=np.ones((500,1)),values=x,axis=1)\n",
    "x_temp"
   ]
  },
  {
   "cell_type": "code",
   "execution_count": 7,
   "metadata": {},
   "outputs": [
    {
     "data": {
      "text/html": [
       "<table class=\"simpletable\">\n",
       "<caption>OLS Regression Results</caption>\n",
       "<tr>\n",
       "  <th>Dep. Variable:</th>            <td>y</td>        <th>  R-squared:         </th> <td>   0.822</td> \n",
       "</tr>\n",
       "<tr>\n",
       "  <th>Model:</th>                   <td>OLS</td>       <th>  Adj. R-squared:    </th> <td>   0.819</td> \n",
       "</tr>\n",
       "<tr>\n",
       "  <th>Method:</th>             <td>Least Squares</td>  <th>  F-statistic:       </th> <td>   324.4</td> \n",
       "</tr>\n",
       "<tr>\n",
       "  <th>Date:</th>             <td>Sat, 17 Oct 2020</td> <th>  Prob (F-statistic):</th> <td>8.21e-180</td>\n",
       "</tr>\n",
       "<tr>\n",
       "  <th>Time:</th>                 <td>15:36:15</td>     <th>  Log-Likelihood:    </th> <td>  701.38</td> \n",
       "</tr>\n",
       "<tr>\n",
       "  <th>No. Observations:</th>      <td>   500</td>      <th>  AIC:               </th> <td>  -1387.</td> \n",
       "</tr>\n",
       "<tr>\n",
       "  <th>Df Residuals:</th>          <td>   492</td>      <th>  BIC:               </th> <td>  -1353.</td> \n",
       "</tr>\n",
       "<tr>\n",
       "  <th>Df Model:</th>              <td>     7</td>      <th>                     </th>     <td> </td>    \n",
       "</tr>\n",
       "<tr>\n",
       "  <th>Covariance Type:</th>      <td>nonrobust</td>    <th>                     </th>     <td> </td>    \n",
       "</tr>\n",
       "</table>\n",
       "<table class=\"simpletable\">\n",
       "<tr>\n",
       "    <td></td>       <th>coef</th>     <th>std err</th>      <th>t</th>      <th>P>|t|</th>  <th>[0.025</th>    <th>0.975]</th>  \n",
       "</tr>\n",
       "<tr>\n",
       "  <th>const</th> <td>    0.7217</td> <td>    0.003</td> <td>  269.039</td> <td> 0.000</td> <td>    0.716</td> <td>    0.727</td>\n",
       "</tr>\n",
       "<tr>\n",
       "  <th>x1</th>    <td>    0.0210</td> <td>    0.006</td> <td>    3.700</td> <td> 0.000</td> <td>    0.010</td> <td>    0.032</td>\n",
       "</tr>\n",
       "<tr>\n",
       "  <th>x2</th>    <td>    0.0169</td> <td>    0.005</td> <td>    3.184</td> <td> 0.002</td> <td>    0.006</td> <td>    0.027</td>\n",
       "</tr>\n",
       "<tr>\n",
       "  <th>x3</th>    <td>    0.0068</td> <td>    0.004</td> <td>    1.563</td> <td> 0.119</td> <td>   -0.002</td> <td>    0.015</td>\n",
       "</tr>\n",
       "<tr>\n",
       "  <th>x4</th>    <td>    0.0016</td> <td>    0.005</td> <td>    0.348</td> <td> 0.728</td> <td>   -0.007</td> <td>    0.010</td>\n",
       "</tr>\n",
       "<tr>\n",
       "  <th>x5</th>    <td>    0.0156</td> <td>    0.004</td> <td>    4.074</td> <td> 0.000</td> <td>    0.008</td> <td>    0.023</td>\n",
       "</tr>\n",
       "<tr>\n",
       "  <th>x6</th>    <td>    0.0715</td> <td>    0.006</td> <td>   12.198</td> <td> 0.000</td> <td>    0.060</td> <td>    0.083</td>\n",
       "</tr>\n",
       "<tr>\n",
       "  <th>x7</th>    <td>    0.0121</td> <td>    0.003</td> <td>    3.680</td> <td> 0.000</td> <td>    0.006</td> <td>    0.019</td>\n",
       "</tr>\n",
       "</table>\n",
       "<table class=\"simpletable\">\n",
       "<tr>\n",
       "  <th>Omnibus:</th>       <td>112.770</td> <th>  Durbin-Watson:     </th> <td>   0.796</td>\n",
       "</tr>\n",
       "<tr>\n",
       "  <th>Prob(Omnibus):</th> <td> 0.000</td>  <th>  Jarque-Bera (JB):  </th> <td> 262.104</td>\n",
       "</tr>\n",
       "<tr>\n",
       "  <th>Skew:</th>          <td>-1.160</td>  <th>  Prob(JB):          </th> <td>1.22e-57</td>\n",
       "</tr>\n",
       "<tr>\n",
       "  <th>Kurtosis:</th>      <td> 5.684</td>  <th>  Cond. No.          </th> <td>    5.65</td>\n",
       "</tr>\n",
       "</table><br/><br/>Notes:<br/>[1] Standard Errors assume that the covariance matrix of the errors is correctly specified."
      ],
      "text/plain": [
       "<class 'statsmodels.iolib.summary.Summary'>\n",
       "\"\"\"\n",
       "                            OLS Regression Results                            \n",
       "==============================================================================\n",
       "Dep. Variable:                      y   R-squared:                       0.822\n",
       "Model:                            OLS   Adj. R-squared:                  0.819\n",
       "Method:                 Least Squares   F-statistic:                     324.4\n",
       "Date:                Sat, 17 Oct 2020   Prob (F-statistic):          8.21e-180\n",
       "Time:                        15:36:15   Log-Likelihood:                 701.38\n",
       "No. Observations:                 500   AIC:                            -1387.\n",
       "Df Residuals:                     492   BIC:                            -1353.\n",
       "Df Model:                           7                                         \n",
       "Covariance Type:            nonrobust                                         \n",
       "==============================================================================\n",
       "                 coef    std err          t      P>|t|      [0.025      0.975]\n",
       "------------------------------------------------------------------------------\n",
       "const          0.7217      0.003    269.039      0.000       0.716       0.727\n",
       "x1             0.0210      0.006      3.700      0.000       0.010       0.032\n",
       "x2             0.0169      0.005      3.184      0.002       0.006       0.027\n",
       "x3             0.0068      0.004      1.563      0.119      -0.002       0.015\n",
       "x4             0.0016      0.005      0.348      0.728      -0.007       0.010\n",
       "x5             0.0156      0.004      4.074      0.000       0.008       0.023\n",
       "x6             0.0715      0.006     12.198      0.000       0.060       0.083\n",
       "x7             0.0121      0.003      3.680      0.000       0.006       0.019\n",
       "==============================================================================\n",
       "Omnibus:                      112.770   Durbin-Watson:                   0.796\n",
       "Prob(Omnibus):                  0.000   Jarque-Bera (JB):              262.104\n",
       "Skew:                          -1.160   Prob(JB):                     1.22e-57\n",
       "Kurtosis:                       5.684   Cond. No.                         5.65\n",
       "==============================================================================\n",
       "\n",
       "Notes:\n",
       "[1] Standard Errors assume that the covariance matrix of the errors is correctly specified.\n",
       "\"\"\""
      ]
     },
     "execution_count": 7,
     "metadata": {},
     "output_type": "execute_result"
    }
   ],
   "source": [
    "#find pvalue \n",
    "import statsmodels.api as sm\n",
    "stats=sm.OLS(endog=y,exog=x_temp).fit()\n",
    "stats.summary()"
   ]
  },
  {
   "cell_type": "code",
   "execution_count": null,
   "metadata": {},
   "outputs": [],
   "source": []
  },
  {
   "cell_type": "code",
   "execution_count": 8,
   "metadata": {},
   "outputs": [
    {
     "data": {
      "text/html": [
       "<table class=\"simpletable\">\n",
       "<caption>OLS Regression Results</caption>\n",
       "<tr>\n",
       "  <th>Dep. Variable:</th>            <td>y</td>        <th>  R-squared:         </th> <td>   0.821</td> \n",
       "</tr>\n",
       "<tr>\n",
       "  <th>Model:</th>                   <td>OLS</td>       <th>  Adj. R-squared:    </th> <td>   0.819</td> \n",
       "</tr>\n",
       "<tr>\n",
       "  <th>Method:</th>             <td>Least Squares</td>  <th>  F-statistic:       </th> <td>   376.9</td> \n",
       "</tr>\n",
       "<tr>\n",
       "  <th>Date:</th>             <td>Sat, 17 Oct 2020</td> <th>  Prob (F-statistic):</th> <td>1.37e-180</td>\n",
       "</tr>\n",
       "<tr>\n",
       "  <th>Time:</th>                 <td>15:36:15</td>     <th>  Log-Likelihood:    </th> <td>  700.15</td> \n",
       "</tr>\n",
       "<tr>\n",
       "  <th>No. Observations:</th>      <td>   500</td>      <th>  AIC:               </th> <td>  -1386.</td> \n",
       "</tr>\n",
       "<tr>\n",
       "  <th>Df Residuals:</th>          <td>   493</td>      <th>  BIC:               </th> <td>  -1357.</td> \n",
       "</tr>\n",
       "<tr>\n",
       "  <th>Df Model:</th>              <td>     6</td>      <th>                     </th>     <td> </td>    \n",
       "</tr>\n",
       "<tr>\n",
       "  <th>Covariance Type:</th>      <td>nonrobust</td>    <th>                     </th>     <td> </td>    \n",
       "</tr>\n",
       "</table>\n",
       "<table class=\"simpletable\">\n",
       "<tr>\n",
       "    <td></td>       <th>coef</th>     <th>std err</th>      <th>t</th>      <th>P>|t|</th>  <th>[0.025</th>    <th>0.975]</th>  \n",
       "</tr>\n",
       "<tr>\n",
       "  <th>const</th> <td>    0.7217</td> <td>    0.003</td> <td>  268.647</td> <td> 0.000</td> <td>    0.716</td> <td>    0.727</td>\n",
       "</tr>\n",
       "<tr>\n",
       "  <th>x1</th>    <td>    0.0214</td> <td>    0.006</td> <td>    3.775</td> <td> 0.000</td> <td>    0.010</td> <td>    0.033</td>\n",
       "</tr>\n",
       "<tr>\n",
       "  <th>x2</th>    <td>    0.0176</td> <td>    0.005</td> <td>    3.329</td> <td> 0.001</td> <td>    0.007</td> <td>    0.028</td>\n",
       "</tr>\n",
       "<tr>\n",
       "  <th>x3</th>    <td>    0.0042</td> <td>    0.004</td> <td>    0.991</td> <td> 0.322</td> <td>   -0.004</td> <td>    0.012</td>\n",
       "</tr>\n",
       "<tr>\n",
       "  <th>x4</th>    <td>    0.0164</td> <td>    0.004</td> <td>    4.333</td> <td> 0.000</td> <td>    0.009</td> <td>    0.024</td>\n",
       "</tr>\n",
       "<tr>\n",
       "  <th>x5</th>    <td>    0.0728</td> <td>    0.006</td> <td>   12.531</td> <td> 0.000</td> <td>    0.061</td> <td>    0.084</td>\n",
       "</tr>\n",
       "<tr>\n",
       "  <th>x6</th>    <td>    0.0123</td> <td>    0.003</td> <td>    3.767</td> <td> 0.000</td> <td>    0.006</td> <td>    0.019</td>\n",
       "</tr>\n",
       "</table>\n",
       "<table class=\"simpletable\">\n",
       "<tr>\n",
       "  <th>Omnibus:</th>       <td>112.527</td> <th>  Durbin-Watson:     </th> <td>   0.789</td>\n",
       "</tr>\n",
       "<tr>\n",
       "  <th>Prob(Omnibus):</th> <td> 0.000</td>  <th>  Jarque-Bera (JB):  </th> <td> 260.849</td>\n",
       "</tr>\n",
       "<tr>\n",
       "  <th>Skew:</th>          <td>-1.158</td>  <th>  Prob(JB):          </th> <td>2.28e-57</td>\n",
       "</tr>\n",
       "<tr>\n",
       "  <th>Kurtosis:</th>      <td> 5.675</td>  <th>  Cond. No.          </th> <td>    5.25</td>\n",
       "</tr>\n",
       "</table><br/><br/>Notes:<br/>[1] Standard Errors assume that the covariance matrix of the errors is correctly specified."
      ],
      "text/plain": [
       "<class 'statsmodels.iolib.summary.Summary'>\n",
       "\"\"\"\n",
       "                            OLS Regression Results                            \n",
       "==============================================================================\n",
       "Dep. Variable:                      y   R-squared:                       0.821\n",
       "Model:                            OLS   Adj. R-squared:                  0.819\n",
       "Method:                 Least Squares   F-statistic:                     376.9\n",
       "Date:                Sat, 17 Oct 2020   Prob (F-statistic):          1.37e-180\n",
       "Time:                        15:36:15   Log-Likelihood:                 700.15\n",
       "No. Observations:                 500   AIC:                            -1386.\n",
       "Df Residuals:                     493   BIC:                            -1357.\n",
       "Df Model:                           6                                         \n",
       "Covariance Type:            nonrobust                                         \n",
       "==============================================================================\n",
       "                 coef    std err          t      P>|t|      [0.025      0.975]\n",
       "------------------------------------------------------------------------------\n",
       "const          0.7217      0.003    268.647      0.000       0.716       0.727\n",
       "x1             0.0214      0.006      3.775      0.000       0.010       0.033\n",
       "x2             0.0176      0.005      3.329      0.001       0.007       0.028\n",
       "x3             0.0042      0.004      0.991      0.322      -0.004       0.012\n",
       "x4             0.0164      0.004      4.333      0.000       0.009       0.024\n",
       "x5             0.0728      0.006     12.531      0.000       0.061       0.084\n",
       "x6             0.0123      0.003      3.767      0.000       0.006       0.019\n",
       "==============================================================================\n",
       "Omnibus:                      112.527   Durbin-Watson:                   0.789\n",
       "Prob(Omnibus):                  0.000   Jarque-Bera (JB):              260.849\n",
       "Skew:                          -1.158   Prob(JB):                     2.28e-57\n",
       "Kurtosis:                       5.675   Cond. No.                         5.25\n",
       "==============================================================================\n",
       "\n",
       "Notes:\n",
       "[1] Standard Errors assume that the covariance matrix of the errors is correctly specified.\n",
       "\"\"\""
      ]
     },
     "execution_count": 8,
     "metadata": {},
     "output_type": "execute_result"
    }
   ],
   "source": [
    "#eliminate > 0.5 pvalue column\n",
    "x_temp=np.array(x_temp[:,[0,1,2,4,5,6,7]],dtype=float)\n",
    "stats=sm.OLS(endog=y,exog=x_temp).fit()\n",
    "stats.summary()"
   ]
  },
  {
   "cell_type": "code",
   "execution_count": 9,
   "metadata": {},
   "outputs": [],
   "source": [
    "#split train set and test set\n",
    "from sklearn.model_selection import train_test_split\n",
    "x_tr,x_te,y_tr,y_te=train_test_split(x_temp,y,test_size=0.2,random_state=10)"
   ]
  },
  {
   "cell_type": "code",
   "execution_count": 10,
   "metadata": {},
   "outputs": [
    {
     "data": {
      "text/plain": [
       "(array([0.74, 0.91, 0.74, 0.73, 0.92, 0.43, 0.77, 0.47, 0.79, 0.68, 0.45,\n",
       "        0.71, 0.63, 0.64, 0.79, 0.75, 0.76, 0.54, 0.7 , 0.73, 0.68, 0.94,\n",
       "        0.79, 0.81, 0.81, 0.67, 0.71, 0.79, 0.71, 0.94, 0.93, 0.73, 0.8 ,\n",
       "        0.85, 0.5 , 0.55, 0.67, 0.75, 0.8 , 0.85, 0.57, 0.64, 0.58, 0.61,\n",
       "        0.69, 0.78, 0.86, 0.96, 0.9 , 0.65, 0.94, 0.49, 0.79, 0.64, 0.89,\n",
       "        0.74, 0.93, 0.71, 0.74, 0.89, 0.83, 0.63, 0.96, 0.78, 0.72, 0.77,\n",
       "        0.84, 0.78, 0.44, 0.77, 0.52, 0.68, 0.77, 0.54, 0.61, 0.52, 0.69,\n",
       "        0.73, 0.61, 0.72, 0.7 , 0.72, 0.65, 0.95, 0.94, 0.7 , 0.78, 0.78,\n",
       "        0.57, 0.38, 0.79, 0.36, 0.71, 0.73, 0.46, 0.66, 0.68, 0.69, 0.81,\n",
       "        0.39, 0.34, 0.72, 0.87, 0.54, 0.76, 0.87, 0.87, 0.82, 0.65, 0.8 ,\n",
       "        0.72, 0.42, 0.56, 0.94, 0.94, 0.59, 0.71, 0.71, 0.64, 0.64, 0.82,\n",
       "        0.93, 0.66, 0.92, 0.65, 0.71, 0.72, 0.7 , 0.57, 0.78, 0.62, 0.65,\n",
       "        0.74, 0.84, 0.93, 0.42, 0.69, 0.71, 0.64, 0.8 , 0.78, 0.58, 0.47,\n",
       "        0.59, 0.79, 0.71, 0.86, 0.91, 0.56, 0.7 , 0.94, 0.88, 0.67, 0.92,\n",
       "        0.62, 0.66, 0.71, 0.97, 0.74, 0.88, 0.7 , 0.71, 0.9 , 0.96, 0.34,\n",
       "        0.95, 0.95, 0.69, 0.62, 0.7 , 0.81, 0.78, 0.78, 0.79, 0.93, 0.59,\n",
       "        0.93, 0.7 , 0.8 , 0.87, 0.89, 0.45, 0.72, 0.64, 0.92, 0.84, 0.64,\n",
       "        0.68, 0.58, 0.46, 0.92, 0.61, 0.57, 0.73, 0.64, 0.84, 0.72, 0.86,\n",
       "        0.83, 0.67, 0.9 , 0.67, 0.77, 0.89, 0.37, 0.77, 0.71, 0.91, 0.59,\n",
       "        0.73, 0.71, 0.45, 0.9 , 0.91, 0.62, 0.7 , 0.84, 0.57, 0.48, 0.46,\n",
       "        0.93, 0.71, 0.65, 0.57, 0.73, 0.63, 0.79, 0.62, 0.65, 0.79, 0.8 ,\n",
       "        0.96, 0.76, 0.58, 0.71, 0.64, 0.68, 0.82, 0.67, 0.89, 0.62, 0.73,\n",
       "        0.66, 0.58, 0.82, 0.91, 0.87, 0.95, 0.92, 0.42, 0.57, 0.72, 0.48,\n",
       "        0.94, 0.85, 0.63, 0.53, 0.68, 0.52, 0.96, 0.8 , 0.68, 0.51, 0.66,\n",
       "        0.64, 0.49, 0.64, 0.94, 0.79, 0.52, 0.74, 0.72, 0.72, 0.52, 0.86,\n",
       "        0.91, 0.56, 0.61, 0.78, 0.81, 0.75, 0.49, 0.93, 0.8 , 0.95, 0.84,\n",
       "        0.78, 0.72, 0.88, 0.65, 0.63, 0.88, 0.82, 0.86, 0.53, 0.69, 0.76,\n",
       "        0.46, 0.89, 0.54, 0.76, 0.83, 0.62, 0.84, 0.93, 0.91, 0.76, 0.72,\n",
       "        0.89, 0.97, 0.52, 0.54, 0.85, 0.58, 0.68, 0.77, 0.79, 0.6 , 0.73,\n",
       "        0.86, 0.65, 0.79, 0.91, 0.64, 0.74, 0.79, 0.94, 0.97, 0.82, 0.81,\n",
       "        0.53, 0.62, 0.96, 0.47, 0.84, 0.96, 0.77, 0.91, 0.74, 0.53, 0.71,\n",
       "        0.8 , 0.36, 0.58, 0.61, 0.54, 0.44, 0.63, 0.8 , 0.56, 0.67, 0.74,\n",
       "        0.73, 0.84, 0.74, 0.61, 0.92, 0.58, 0.57, 0.9 , 0.82, 0.61, 0.76,\n",
       "        0.62, 0.73, 0.64, 0.65, 0.73, 0.82, 0.62, 0.8 , 0.73, 0.9 , 0.54,\n",
       "        0.57, 0.69, 0.47, 0.7 , 0.82, 0.59, 0.79, 0.66, 0.89, 0.42, 0.46,\n",
       "        0.76, 0.84, 0.5 , 0.68, 0.49, 0.75, 0.67, 0.7 , 0.61, 0.67, 0.75,\n",
       "        0.54, 0.73, 0.64, 0.71]),\n",
       " array([0.94, 0.91, 0.8 , 0.9 , 0.77, 0.76, 0.72, 0.87, 0.65, 0.81, 0.93,\n",
       "        0.86, 0.81, 0.74, 0.73, 0.71, 0.87, 0.89, 0.78, 0.64, 0.67, 0.61,\n",
       "        0.67, 0.85, 0.51, 0.92, 0.73, 0.49, 0.68, 0.72, 0.94, 0.83, 0.57,\n",
       "        0.7 , 0.71, 0.9 , 0.84, 0.56, 0.66, 0.68, 0.9 , 0.64, 0.59, 0.89,\n",
       "        0.97, 0.38, 0.63, 0.55, 0.71, 0.73, 0.81, 0.66, 0.56, 0.62, 0.65,\n",
       "        0.69, 0.89, 0.68, 0.78, 0.93, 0.62, 0.93, 0.72, 0.69, 0.87, 0.56,\n",
       "        0.78, 0.77, 0.6 , 0.76, 0.92, 0.59, 0.48, 0.75, 0.75, 0.7 , 0.62,\n",
       "        0.86, 0.85, 0.76, 0.66, 0.71, 0.64, 0.79, 0.8 , 0.76, 0.86, 0.47,\n",
       "        0.52, 0.96, 0.86, 0.64, 0.53, 0.76, 0.78, 0.76, 0.75, 0.94, 0.44,\n",
       "        0.71]))"
      ]
     },
     "execution_count": 10,
     "metadata": {},
     "output_type": "execute_result"
    }
   ],
   "source": [
    "y_tr,y_te"
   ]
  },
  {
   "cell_type": "code",
   "execution_count": 11,
   "metadata": {},
   "outputs": [
    {
     "name": "stdout",
     "output_type": "stream",
     "text": [
      "Wall time: 0 ns\n"
     ]
    },
    {
     "data": {
      "image/png": "[encoded data removed]",
      "text/plain": [
       "<Figure size 432x288 with 1 Axes>"
      ]
     },
     "metadata": {
      "needs_background": "light"
     },
     "output_type": "display_data"
    }
   ],
   "source": [
    "#RFA graph for GRE\n",
    "%time\n",
    "from sklearn.ensemble import RandomForestRegressor\n",
    "regressor=RandomForestRegressor(n_estimators=100,random_state=0)\n",
    "regressor.fit(x_tr,y_tr)\n",
    "y_pred=regressor.predict(x_te)\n",
    "plt.scatter(x_te[:,1],y_te,c=\"red\")\n",
    "plt.scatter(x_te[:,1],y_pred)\n",
    "plt.xlabel(\"GRE Score\")\n",
    "plt.ylabel(\"Chance of Admit\")\n",
    "plt.show()\n",
    "\n"
   ]
  },
  {
   "cell_type": "code",
   "execution_count": 12,
   "metadata": {},
   "outputs": [
    {
     "data": {
      "image/png": "[encoded data removed]",
      "text/plain": [
       "<Figure size 432x288 with 1 Axes>"
      ]
     },
     "metadata": {
      "needs_background": "light"
     },
     "output_type": "display_data"
    }
   ],
   "source": [
    "#graph for TOEFL\n",
    "plt.scatter(x_te[:,2],y_te,c=\"red\")\n",
    "plt.scatter(x_te[:,2],y_pred)\n",
    "plt.xlabel(\"TOEFL Score\")\n",
    "plt.ylabel(\"Chance of Admit\")\n",
    "plt.show()"
   ]
  },
  {
   "cell_type": "code",
   "execution_count": 13,
   "metadata": {},
   "outputs": [
    {
     "data": {
      "image/png": "[encoded data removed]",
      "text/plain": [
       "<Figure size 432x288 with 1 Axes>"
      ]
     },
     "metadata": {
      "needs_background": "light"
     },
     "output_type": "display_data"
    }
   ],
   "source": [
    "#graph for CGPA\n",
    "plt.scatter(x_te[:,5],y_te,c=\"red\")\n",
    "plt.scatter(x_te[:,5],y_pred)\n",
    "plt.xlabel(\"CGPA\")\n",
    "plt.ylabel(\"Chance of Admit\")\n",
    "plt.show()"
   ]
  },
  {
   "cell_type": "code",
   "execution_count": 26,
   "metadata": {},
   "outputs": [
    {
     "name": "stdout",
     "output_type": "stream",
     "text": [
      " mean_squared_error       0.003906680899999996\n",
      "mean_absolute_error       0.04353100000000001\n",
      "root mean_squared_error  0.0625034471049397\n",
      "R-square                  0.7739737476559324\n"
     ]
    }
   ],
   "source": [
    "#Find mean_absolute_error,mean_squared_error,explained_variance_score\n",
    "from sklearn.metrics import mean_squared_error,mean_absolute_error,explained_variance_score\n",
    "mae=mean_absolute_error(y_te,y_pred)\n",
    "mse=mean_squared_error(y_te,y_pred)\n",
    "rmse=np.sqrt(mse)\n",
    "rsq=explained_variance_score(y_te,y_pred)\n",
    "print(\" mean_squared_error      \",mse)\n",
    "print(\"mean_absolute_error      \",mae)\n",
    "print(\"root mean_squared_error \",rmse) \n",
    "print(\"R-square                 \",rsq)\n",
    " "
   ]
  },
  {
   "cell_type": "code",
   "execution_count": null,
   "metadata": {},
   "outputs": [],
   "source": [
    "q=np.array([[302,101,2,2.5,2,7.96,0]])\n",
    "y_pred=regressor.predict(q)\n",
    "print(y_pred)"
   ]
  }
 ],
 "metadata": {
  "kernelspec": {
   "display_name": "Python 3",
   "language": "python",
   "name": "python3"
  },
  "language_info": {
   "codemirror_mode": {
    "name": "ipython",
    "version": 3
   },
   "file_extension": ".py",
   "mimetype": "text/x-python",
   "name": "python",
   "nbconvert_exporter": "python",
   "pygments_lexer": "ipython3",
   "version": "3.8.5"
  }
 },
 "nbformat": 4,
 "nbformat_minor": 4
}
